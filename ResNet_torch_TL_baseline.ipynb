{
  "nbformat": 4,
  "nbformat_minor": 0,
  "metadata": {
    "colab": {
      "name": "ResNet_torch_baseline.ipynb",
      "provenance": [],
      "collapsed_sections": []
    },
    "kernelspec": {
      "name": "python3",
      "display_name": "Python 3"
    },
    "accelerator": "GPU"
  },
  "cells": [
    {
      "cell_type": "code",
      "metadata": {
        "id": "P5fvaDNGnfpG"
      },
      "source": [
        "import os\r\n",
        "import numpy as np \r\n",
        "import pandas as pd \r\n",
        "import torch\r\n",
        "import torchvision"
      ],
      "execution_count": 13,
      "outputs": []
    },
    {
      "cell_type": "code",
      "metadata": {
        "colab": {
          "base_uri": "https://localhost:8080/"
        },
        "id": "-vOZeXGprX5s",
        "outputId": "23c6abcf-daa6-40a8-f856-67534f6d6299"
      },
      "source": [
        "from google.colab import drive\r\n",
        "drive.mount('/gdrive')\r\n",
        "%cd /gdrive\r\n",
        "DRIVE_PATH=\"/gdrive/MyDrive\""
      ],
      "execution_count": 4,
      "outputs": [
        {
          "output_type": "stream",
          "text": [
            "Mounted at /gdrive\n",
            "/gdrive\n"
          ],
          "name": "stdout"
        }
      ]
    },
    {
      "cell_type": "code",
      "metadata": {
        "id": "FfEY127xzAEd"
      },
      "source": [
        "class DatasetFromSubset(torch.utils.data.Dataset):\r\n",
        "    def __init__(self, subset, transform=None):\r\n",
        "        self.subset = subset\r\n",
        "        self.transform = transform\r\n",
        "\r\n",
        "    def __getitem__(self, index):\r\n",
        "        x, y = self.subset[index]\r\n",
        "        if self.transform:\r\n",
        "            x = self.transform(x)\r\n",
        "        return x, y\r\n",
        "\r\n",
        "    def __len__(self):\r\n",
        "        return len(self.subset)"
      ],
      "execution_count": 14,
      "outputs": []
    },
    {
      "cell_type": "code",
      "metadata": {
        "id": "3Y812-Xyn8ZE"
      },
      "source": [
        "from torchvision import transforms, models\r\n",
        "train_transforms = transforms.Compose([\r\n",
        "    transforms.RandomResizedCrop(224),\r\n",
        "    transforms.RandomHorizontalFlip(),\r\n",
        "    transforms.ToTensor(),\r\n",
        "    transforms.Normalize([0.485, 0.456, 0.406], [0.229, 0.224, 0.225])\r\n",
        "])\r\n",
        "\r\n",
        "val_transforms = transforms.Compose([\r\n",
        "    transforms.Resize((224, 224)),\r\n",
        "    transforms.ToTensor(),\r\n",
        "    transforms.Normalize([0.485, 0.456, 0.406], [0.229, 0.224, 0.225])\r\n",
        "])\r\n",
        "\r\n",
        "train_dir=f\"{DRIVE_PATH}/images/train\"\r\n",
        "val_dir=f\"{DRIVE_PATH}/images/val\"\r\n",
        "# model_dataset = torchvision.datasets.ImageFolder(train_dir)\r\n",
        "# total_count=model_dataset.__len__()\r\n",
        "# print(total_count)\r\n",
        "# train_count = int(0.8 * total_count)\r\n",
        "# valid_count = total_count-train_count\r\n",
        "# print(valid_count)\r\n",
        "# train_subset, val_subset= torch.utils.data.random_split(\r\n",
        "#     model_dataset, (train_count, valid_count)\r\n",
        "# )\r\n",
        "# train_dataset = DatasetFromSubset(\r\n",
        "#     train_subset, transform=train_transforms\r\n",
        "# )\r\n",
        "# val_dataset = DatasetFromSubset(\r\n",
        "#     val_subset, transform=val_transforms\r\n",
        "# )\r\n",
        "train_dataset = torchvision.datasets.ImageFolder(train_dir, train_transforms)\r\n",
        "val_dataset = torchvision.datasets.ImageFolder(val_dir, val_transforms)\r\n",
        "batch_size = 8\r\n",
        "train_dataloader = torch.utils.data.DataLoader(\r\n",
        "    train_dataset, batch_size=batch_size, shuffle=True, num_workers=2)\r\n",
        "val_dataloader = torch.utils.data.DataLoader(\r\n",
        "    val_dataset, batch_size=batch_size, shuffle=False, num_workers=2)"
      ],
      "execution_count": null,
      "outputs": []
    },
    {
      "cell_type": "code",
      "metadata": {
        "id": "rj2l9FxXr9NZ"
      },
      "source": [
        "def train_model(model, loss, optimizer, scheduler, num_epochs):\r\n",
        "    for epoch in range(num_epochs):\r\n",
        "        print('Epoch {}/{}:'.format(epoch, num_epochs - 1), flush=True)\r\n",
        "\r\n",
        "        # Each epoch has a training and validation phase\r\n",
        "        for phase in ['train', 'val']:\r\n",
        "            if phase == 'train':\r\n",
        "                dataloader = train_dataloader\r\n",
        "                model.train()  # Set model to training mode\r\n",
        "            else:\r\n",
        "                dataloader = val_dataloader\r\n",
        "                model.eval()   # Set model to evaluate mode\r\n",
        "\r\n",
        "            running_loss = 0.\r\n",
        "            running_acc = 0.\r\n",
        "\r\n",
        "            # Iterate over data.\r\n",
        "            for inputs, labels in dataloader:\r\n",
        "                inputs = inputs.to(device)\r\n",
        "                labels = labels.to(device)\r\n",
        "\r\n",
        "                optimizer.zero_grad()\r\n",
        "\r\n",
        "                # forward and backward\r\n",
        "                with torch.set_grad_enabled(phase == 'train'):\r\n",
        "                    preds = model(inputs)\r\n",
        "                    loss_value = loss(preds, labels)\r\n",
        "                    preds_class = preds.argmax(dim=1)\r\n",
        "\r\n",
        "                    # backward + optimize only if in training phase\r\n",
        "                    if phase == 'train':\r\n",
        "                        loss_value.backward()\r\n",
        "                        optimizer.step()\r\n",
        "                        scheduler.step()\r\n",
        "\r\n",
        "                # statistics\r\n",
        "                running_loss += loss_value.item()\r\n",
        "                running_acc += (preds_class == labels.data).float().mean()\r\n",
        "\r\n",
        "            epoch_loss = running_loss / len(dataloader)\r\n",
        "            epoch_acc = running_acc / len(dataloader)\r\n",
        "\r\n",
        "            print('{} Loss: {:.4f} Acc: {:.4f}'.format(phase, epoch_loss, epoch_acc), flush=True)\r\n",
        "\r\n",
        "    return model"
      ],
      "execution_count": 23,
      "outputs": []
    },
    {
      "cell_type": "code",
      "metadata": {
        "id": "KQm5xXxWwGyM"
      },
      "source": [
        "model = models.resnet18(pretrained=True)\r\n",
        "\r\n",
        "# Disable grad for all conv layers\r\n",
        "for param in model.parameters():\r\n",
        "    param.requires_grad = False\r\n",
        "\r\n",
        "model.fc = torch.nn.Linear(model.fc.in_features, 2)\r\n",
        "\r\n",
        "device = torch.device(\"cuda:0\" if torch.cuda.is_available() else \"cpu\")\r\n",
        "model = model.to(device)\r\n",
        "\r\n",
        "loss = torch.nn.CrossEntropyLoss()\r\n",
        "optimizer = torch.optim.Adam(model.parameters(), lr=1.0e-3)\r\n",
        "\r\n",
        "# Decay LR by a factor of 0.1 every 7 epochs\r\n",
        "scheduler = torch.optim.lr_scheduler.StepLR(optimizer, step_size=7, gamma=0.1)"
      ],
      "execution_count": null,
      "outputs": []
    },
    {
      "cell_type": "code",
      "metadata": {
        "id": "YQKYwQHwwOmT"
      },
      "source": [
        "train_model(model, loss, optimizer, scheduler, num_epochs=100);"
      ],
      "execution_count": null,
      "outputs": []
    }
  ]
}